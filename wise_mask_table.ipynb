{
 "cells": [
  {
   "cell_type": "code",
   "execution_count": 1,
   "metadata": {
    "collapsed": true
   },
   "outputs": [],
   "source": [
    "%matplotlib inline\n",
    "from __future__ import division, print_function\n",
    "import numpy as np\n",
    "from astropy.table import Table\n",
    "import matplotlib.pyplot as plt\n",
    "import sys, os\n",
    "\n",
    "from astropy import wcs\n",
    "from astropy.io import fits"
   ]
  },
  {
   "cell_type": "markdown",
   "metadata": {},
   "source": [
    "__Coadd WCS table__"
   ]
  },
  {
   "cell_type": "code",
   "execution_count": 2,
   "metadata": {},
   "outputs": [
    {
     "name": "stdout",
     "output_type": "stream",
     "text": [
      "18240\n"
     ]
    }
   ],
   "source": [
    "t = Table.read('/Users/roz18/git/wise-mask-query/misc/astrom-atlas.fits')\n",
    "print(len(t))"
   ]
  },
  {
   "cell_type": "code",
   "execution_count": 3,
   "metadata": {},
   "outputs": [
    {
     "data": {
      "text/html": [
       "&lt;Table length=5&gt;\n",
       "<table id=\"table4511999696\" class=\"table-striped table-bordered table-condensed\">\n",
       "<thead><tr><th>COADD_ID</th><th>NAXIS [2]</th><th>CD [2,2]</th><th>CDELT [2]</th><th>CRPIX [2]</th><th>CRVAL [2]</th><th>CTYPE [2]</th><th>LONGPOLE</th><th>LATPOLE</th><th>PV2 [2]</th></tr></thead>\n",
       "<thead><tr><th>str8</th><th>int32</th><th>float64</th><th>float64</th><th>float64</th><th>float64</th><th>str8</th><th>float64</th><th>float64</th><th>float64</th></tr></thead>\n",
       "<tr><td>0000m016</td><td>2048 .. 2048</td><td>-0.000763888888889 .. 0.000763888888889</td><td>1.0 .. 1.0</td><td>1024.5 .. 1024.5</td><td>0.0 .. -1.514444</td><td>RA---TAN .. DEC--TAN</td><td>180.0</td><td>0.0</td><td>0.0 .. 0.0</td></tr>\n",
       "<tr><td>0000m031</td><td>2048 .. 2048</td><td>-0.000763888888889 .. 0.000763888888889</td><td>1.0 .. 1.0</td><td>1024.5 .. 1024.5</td><td>0.0 .. -3.028889</td><td>RA---TAN .. DEC--TAN</td><td>180.0</td><td>0.0</td><td>0.0 .. 0.0</td></tr>\n",
       "<tr><td>0000m046</td><td>2048 .. 2048</td><td>-0.000763888888889 .. 0.000763888888889</td><td>1.0 .. 1.0</td><td>1024.5 .. 1024.5</td><td>0.0 .. -4.543333</td><td>RA---TAN .. DEC--TAN</td><td>180.0</td><td>0.0</td><td>0.0 .. 0.0</td></tr>\n",
       "<tr><td>0000m061</td><td>2048 .. 2048</td><td>-0.000763888888889 .. 0.000763888888889</td><td>1.0 .. 1.0</td><td>1024.5 .. 1024.5</td><td>0.0 .. -6.057778</td><td>RA---TAN .. DEC--TAN</td><td>180.0</td><td>0.0</td><td>0.0 .. 0.0</td></tr>\n",
       "<tr><td>0000m076</td><td>2048 .. 2048</td><td>-0.000763888888889 .. 0.000763888888889</td><td>1.0 .. 1.0</td><td>1024.5 .. 1024.5</td><td>0.0 .. -7.572222</td><td>RA---TAN .. DEC--TAN</td><td>180.0</td><td>0.0</td><td>0.0 .. 0.0</td></tr>\n",
       "</table>"
      ],
      "text/plain": [
       "<Table length=5>\n",
       "COADD_ID  NAXIS [2]   ... LATPOLE  PV2 [2]  \n",
       "  str8      int32     ... float64  float64  \n",
       "-------- ------------ ... ------- ----------\n",
       "0000m016 2048 .. 2048 ...     0.0 0.0 .. 0.0\n",
       "0000m031 2048 .. 2048 ...     0.0 0.0 .. 0.0\n",
       "0000m046 2048 .. 2048 ...     0.0 0.0 .. 0.0\n",
       "0000m061 2048 .. 2048 ...     0.0 0.0 .. 0.0\n",
       "0000m076 2048 .. 2048 ...     0.0 0.0 .. 0.0"
      ]
     },
     "execution_count": 3,
     "metadata": {},
     "output_type": "execute_result"
    }
   ],
   "source": [
    "t[:5]"
   ]
  },
  {
   "cell_type": "code",
   "execution_count": 4,
   "metadata": {},
   "outputs": [
    {
     "name": "stdout",
     "output_type": "stream",
     "text": [
      "[[-0.00076389  0.        ]\n",
      " [ 0.          0.00076389]] \n",
      "\n",
      "[ 1.  1.] \n",
      "\n",
      "[ 1024.5  1024.5] \n",
      "\n",
      "[ 0.       -1.514444] \n",
      "\n",
      "['RA---TAN' 'DEC--TAN'] \n",
      "\n"
     ]
    }
   ],
   "source": [
    "print(t['CD'][0], '\\n')\n",
    "print(t['CDELT'][0], '\\n')\n",
    "print(t['CRPIX'][0], '\\n')\n",
    "print(t['CRVAL'][0], '\\n')\n",
    "print(t['CTYPE'][0], '\\n')"
   ]
  },
  {
   "cell_type": "code",
   "execution_count": 5,
   "metadata": {
    "collapsed": true
   },
   "outputs": [],
   "source": [
    "# coadd_index = 0\n",
    "coadd_index = np.where(t['COADD_ID']=='2084p378')[0][0]\n",
    "\n",
    "# Create a new WCS object. The number of axes must be set from the start\n",
    "w = wcs.WCS(naxis=2)\n",
    "\n",
    "# Set up gnomonic projection\n",
    "w.wcs.ctype = [\"RA---TAN\", \"DEC--TAN\"]\n",
    "# Vector properties may be set with Python lists, or Numpy arrays\n",
    "w.wcs.cd = t['CD'][coadd_index]\n",
    "w.wcs.crval = t['CRVAL'][coadd_index]\n",
    "w.wcs.crpix = t['CRPIX'][coadd_index]\n",
    "# CDELT is ignored since cd is present\n",
    "# # w.wcs.cdelt = t['CDELT'][coadd_index]\n",
    "w.wcs.lonpole = t['LONGPOLE'][coadd_index]\n",
    "w.wcs.latpole = t['LATPOLE'][coadd_index]\n",
    "\n",
    "# Epoch must be defined\n",
    "w.wcs.equinox = 2000."
   ]
  },
  {
   "cell_type": "code",
   "execution_count": 6,
   "metadata": {
    "collapsed": true
   },
   "outputs": [],
   "source": [
    "# # Some pixel coordinates of interest.\n",
    "# pixcrd = np.array([[0, 0], [24, 38], [45, 98]], np.float_)\n",
    "\n",
    "# # Convert pixel coordinates to world coordinates\n",
    "# world = w.wcs_pix2world(pixcrd, True)\n",
    "# print(world)\n",
    "\n",
    "# # Convert the same coordinates back to pixel coordinates.\n",
    "# pixcrd2 = w.wcs_world2pix(world, True)\n",
    "# print(pixcrd2)\n",
    "\n",
    "# # These should be the same as the original pixel coordinates, modulo\n",
    "# # some floating-point error.\n",
    "# assert np.max(np.abs(pixcrd - pixcrd2)) < 1e-6\n",
    "\n",
    "# # Now, write out the WCS object as a FITS header\n",
    "# header = w.to_header()\n",
    "\n",
    "# # header is an astropy.io.fits.Header object.  We can use it to create a new\n",
    "# # PrimaryHDU and write it to a file.\n",
    "# hdu = fits.PrimaryHDU(header=header)\n",
    "# # Save to FITS file\n",
    "# # hdu.writeto('test.fits')"
   ]
  },
  {
   "cell_type": "code",
   "execution_count": 7,
   "metadata": {},
   "outputs": [
    {
     "name": "stdout",
     "output_type": "stream",
     "text": [
      "[[ 209.40264915   37.07490358]\n",
      " [ 208.422369     37.861111  ]\n",
      " [ 207.42106207   38.639017  ]]\n"
     ]
    }
   ],
   "source": [
    "# Some pixel coordinates of interest.\n",
    "# [0.5, 0.5] and [2048.5, 2048.5] are the corners of the image\n",
    "pixcrd = np.array([[0.5, 0.5], [1024.5, 1024.5], [2048.5, 2048.5]], dtype=float)\n",
    "# Convert pixel coordinates to world coordinates\n",
    "world = w.wcs_pix2world(pixcrd, True)\n",
    "print(world)"
   ]
  },
  {
   "cell_type": "code",
   "execution_count": 8,
   "metadata": {},
   "outputs": [
    {
     "name": "stdout",
     "output_type": "stream",
     "text": [
      "[[   1024.5           1024.5       ]\n",
      " [-158875.71361155  104683.66209511]]\n"
     ]
    }
   ],
   "source": [
    "# Some world coordinates of interest.\n",
    "world = np.array([[208.422369, 37.861111], [300., 38.639017]], dtype=float)\n",
    "# Convert pixel coordinates to world coordinates\n",
    "pixcrd = w.wcs_world2pix(world, True)\n",
    "print(pixcrd)"
   ]
  },
  {
   "cell_type": "markdown",
   "metadata": {},
   "source": [
    "__Verify with FITS image__"
   ]
  },
  {
   "cell_type": "code",
   "execution_count": 9,
   "metadata": {},
   "outputs": [
    {
     "name": "stdout",
     "output_type": "stream",
     "text": [
      "(2048, 2048)\n"
     ]
    }
   ],
   "source": [
    "filename = '/Users/roz18/git/wise-mask-query/misc/unwise-2084p378-msk.fits'\n",
    "hdulist = fits.open(filename)\n",
    "w1 = wcs.WCS(hdulist[0].header)\n",
    "\n",
    "img = fits.getdata(filename)\n",
    "print(img.shape)"
   ]
  },
  {
   "cell_type": "code",
   "execution_count": 10,
   "metadata": {},
   "outputs": [
    {
     "name": "stdout",
     "output_type": "stream",
     "text": [
      "[[ 209.40264915   37.07490358]\n",
      " [ 208.422369     37.861111  ]\n",
      " [ 207.42106207   38.639017  ]]\n"
     ]
    }
   ],
   "source": [
    "# Some pixel coordinates of interest.\n",
    "# [0.5, 0.5] and [2048.5, 2048.5] are the corners of the image\n",
    "pixcrd = np.array([[0.5, 0.5], [1024.5, 1024.5], [2048.5, 2048.5]], dtype=float)\n",
    "# Convert pixel coordinates to world coordinates\n",
    "world = w1.wcs_pix2world(pixcrd, True)\n",
    "print(world)"
   ]
  },
  {
   "cell_type": "markdown",
   "metadata": {},
   "source": [
    "__Add RA/Dec values to coadd table__"
   ]
  },
  {
   "cell_type": "code",
   "execution_count": 17,
   "metadata": {
    "collapsed": true
   },
   "outputs": [],
   "source": [
    "ra_center, dec_center = np.zeros([2, len(t)])\n",
    "ra_corners = np.zeros([len(t), 4])\n",
    "dec_corners = np.zeros([len(t), 4])\n",
    "\n",
    "for coadd_index in range(len(t)):\n",
    "# for coadd_index in range(10):\n",
    "\n",
    "    w = wcs.WCS(naxis=2)\n",
    "    w.wcs.ctype = [\"RA---TAN\", \"DEC--TAN\"]\n",
    "    w.wcs.cd = t['CD'][coadd_index]\n",
    "    w.wcs.crval = t['CRVAL'][coadd_index]\n",
    "    w.wcs.crpix = t['CRPIX'][coadd_index]\n",
    "    w.wcs.lonpole = t['LONGPOLE'][coadd_index]\n",
    "    w.wcs.latpole = t['LATPOLE'][coadd_index]\n",
    "    w.wcs.equinox = 2000.\n",
    "    \n",
    "    pixcrd = np.array([[1024.5, 1024.5]], dtype=float)\n",
    "    # Convert pixel coordinates to world coordinates\n",
    "    world = w.wcs_pix2world(pixcrd, True)\n",
    "\n",
    "    # print(t['COADD_ID'][coadd_index])\n",
    "    # print('{:7.3f}   {:7.3f}'.format(*world[0]))\n",
    "    \n",
    "    ra_center[coadd_index], dec_center[coadd_index] = world[0]\n",
    "    \n",
    "    # RA/Dec of four corners\n",
    "    pixcrd = np.array([[0.5, 0.5], [2048.5, 0.5], [2048.5, 2048.5], [0.5, 2048.5]], dtype=float)\n",
    "    world = w.wcs_pix2world(pixcrd, True)\n",
    "    ra_corners[coadd_index], dec_corners[coadd_index] = world.transpose()\n",
    "\n",
    "t['ra_center'] = ra_center\n",
    "t['dec_center'] = dec_center\n",
    "t['ra_corners'] = ra_corners\n",
    "t['dec_corners'] = dec_corners"
   ]
  },
  {
   "cell_type": "code",
   "execution_count": 22,
   "metadata": {
    "collapsed": true
   },
   "outputs": [],
   "source": [
    "t.write('/Users/roz18/git/wise-mask-query/misc/astrom-atlas_radec_added.fits')"
   ]
  },
  {
   "cell_type": "code",
   "execution_count": 119,
   "metadata": {},
   "outputs": [
    {
     "data": {
      "text/html": [
       "&lt;Table length=5&gt;\n",
       "<table id=\"table4511617232\" class=\"table-striped table-bordered table-condensed\">\n",
       "<thead><tr><th>COADD_ID</th><th>NAXIS [2]</th><th>CD [2,2]</th><th>CDELT [2]</th><th>CRPIX [2]</th><th>CRVAL [2]</th><th>CTYPE [2]</th><th>LONGPOLE</th><th>LATPOLE</th><th>PV2 [2]</th><th>ra_center</th><th>dec_center</th></tr></thead>\n",
       "<thead><tr><th>str8</th><th>int32</th><th>float64</th><th>float64</th><th>float64</th><th>float64</th><th>str8</th><th>float64</th><th>float64</th><th>float64</th><th>float64</th><th>float64</th></tr></thead>\n",
       "<tr><td>0000m849</td><td>2048 .. 2048</td><td>-0.000763888888889 .. 0.000763888888889</td><td>1.0 .. 1.0</td><td>1024.5 .. 1024.5</td><td>0.0 .. -84.808889</td><td>RA---TAN .. DEC--TAN</td><td>180.0</td><td>0.0</td><td>0.0 .. 0.0</td><td>4.74865902874e-30</td><td>-84.808889</td></tr>\n",
       "<tr><td>0000m864</td><td>2048 .. 2048</td><td>-0.000763888888889 .. 0.000763888888889</td><td>1.0 .. 1.0</td><td>1024.5 .. 1024.5</td><td>0.0 .. -86.323333</td><td>RA---TAN .. DEC--TAN</td><td>180.0</td><td>0.0</td><td>0.0 .. 0.0</td><td>6.70009208182e-30</td><td>-86.323333</td></tr>\n",
       "<tr><td>0000m879</td><td>2048 .. 2048</td><td>-0.000763888888889 .. 0.000763888888889</td><td>1.0 .. 1.0</td><td>1024.5 .. 1024.5</td><td>0.0 .. -87.837778</td><td>RA---TAN .. DEC--TAN</td><td>180.0</td><td>0.0</td><td>0.0 .. 0.0</td><td>1.13877986304e-29</td><td>-87.837778</td></tr>\n",
       "<tr><td>0000m894</td><td>2048 .. 2048</td><td>-0.000763888888889 .. 0.000763888888889</td><td>1.0 .. 1.0</td><td>1024.5 .. 1024.5</td><td>0.0 .. -89.352222</td><td>RA---TAN .. DEC--TAN</td><td>180.0</td><td>0.0</td><td>0.0 .. 0.0</td><td>3.80031880279e-29</td><td>-89.352222</td></tr>\n",
       "<tr><td>0000p000</td><td>2048 .. 2048</td><td>-0.000763888888889 .. 0.000763888888889</td><td>1.0 .. 1.0</td><td>1024.5 .. 1024.5</td><td>0.0 .. 0.0</td><td>RA---TAN .. DEC--TAN</td><td>180.0</td><td>0.0</td><td>0.0 .. 0.0</td><td>4.2964952915e-31</td><td>0.0</td></tr>\n",
       "</table>"
      ],
      "text/plain": [
       "<Table length=5>\n",
       "COADD_ID  NAXIS [2]   ...     ra_center     dec_center\n",
       "  str8      int32     ...      float64       float64  \n",
       "-------- ------------ ... ----------------- ----------\n",
       "0000m849 2048 .. 2048 ... 4.74865902874e-30 -84.808889\n",
       "0000m864 2048 .. 2048 ... 6.70009208182e-30 -86.323333\n",
       "0000m879 2048 .. 2048 ... 1.13877986304e-29 -87.837778\n",
       "0000m894 2048 .. 2048 ... 3.80031880279e-29 -89.352222\n",
       "0000p000 2048 .. 2048 ...  4.2964952915e-31        0.0"
      ]
     },
     "execution_count": 119,
     "metadata": {},
     "output_type": "execute_result"
    }
   ],
   "source": [
    "t[55:60]"
   ]
  },
  {
   "cell_type": "code",
   "execution_count": 76,
   "metadata": {},
   "outputs": [
    {
     "data": {
      "text/html": [
       "&lt;Table length=5&gt;\n",
       "<table id=\"table4531375760\" class=\"table-striped table-bordered table-condensed\">\n",
       "<thead><tr><th>COADD_ID</th><th>NAXIS [2]</th><th>CD [2,2]</th><th>CDELT [2]</th><th>CRPIX [2]</th><th>CRVAL [2]</th><th>CTYPE [2]</th><th>LONGPOLE</th><th>LATPOLE</th><th>PV2 [2]</th><th>ra_center</th><th>dec_center</th></tr></thead>\n",
       "<thead><tr><th>str8</th><th>int32</th><th>float64</th><th>float64</th><th>float64</th><th>float64</th><th>str8</th><th>float64</th><th>float64</th><th>float64</th><th>float64</th><th>float64</th></tr></thead>\n",
       "<tr><td>0000m016</td><td>2048 .. 2048</td><td>-0.000763888888889 .. 0.000763888888889</td><td>1.0 .. 1.0</td><td>1024.5 .. 1024.5</td><td>0.0 .. -1.514444</td><td>RA---TAN .. DEC--TAN</td><td>180.0</td><td>0.0</td><td>0.0 .. 0.0</td><td>4.29799660697e-31</td><td>-1.514444</td></tr>\n",
       "<tr><td>0000m031</td><td>2048 .. 2048</td><td>-0.000763888888889 .. 0.000763888888889</td><td>1.0 .. 1.0</td><td>1024.5 .. 1024.5</td><td>0.0 .. -3.028889</td><td>RA---TAN .. DEC--TAN</td><td>180.0</td><td>0.0</td><td>0.0 .. 0.0</td><td>4.30250580778e-31</td><td>-3.028889</td></tr>\n",
       "<tr><td>0000m046</td><td>2048 .. 2048</td><td>-0.000763888888889 .. 0.000763888888889</td><td>1.0 .. 1.0</td><td>1024.5 .. 1024.5</td><td>0.0 .. -4.543333</td><td>RA---TAN .. DEC--TAN</td><td>180.0</td><td>0.0</td><td>0.0 .. 0.0</td><td>4.31003868411e-31</td><td>-4.543333</td></tr>\n",
       "<tr><td>0000m061</td><td>2048 .. 2048</td><td>-0.000763888888889 .. 0.000763888888889</td><td>1.0 .. 1.0</td><td>1024.5 .. 1024.5</td><td>0.0 .. -6.057778</td><td>RA---TAN .. DEC--TAN</td><td>180.0</td><td>0.0</td><td>0.0 .. 0.0</td><td>4.32062172309e-31</td><td>-6.057778</td></tr>\n",
       "<tr><td>0000m076</td><td>2048 .. 2048</td><td>-0.000763888888889 .. 0.000763888888889</td><td>1.0 .. 1.0</td><td>1024.5 .. 1024.5</td><td>0.0 .. -7.572222</td><td>RA---TAN .. DEC--TAN</td><td>180.0</td><td>0.0</td><td>0.0 .. 0.0</td><td>4.33429229686e-31</td><td>-7.572222</td></tr>\n",
       "</table>"
      ],
      "text/plain": [
       "<Table length=5>\n",
       "COADD_ID  NAXIS [2]   ...     ra_center     dec_center\n",
       "  str8      int32     ...      float64       float64  \n",
       "-------- ------------ ... ----------------- ----------\n",
       "0000m016 2048 .. 2048 ... 4.29799660697e-31  -1.514444\n",
       "0000m031 2048 .. 2048 ... 4.30250580778e-31  -3.028889\n",
       "0000m046 2048 .. 2048 ... 4.31003868411e-31  -4.543333\n",
       "0000m061 2048 .. 2048 ... 4.32062172309e-31  -6.057778\n",
       "0000m076 2048 .. 2048 ... 4.33429229686e-31  -7.572222"
      ]
     },
     "execution_count": 76,
     "metadata": {},
     "output_type": "execute_result"
    }
   ],
   "source": [
    "t[:5]"
   ]
  },
  {
   "cell_type": "code",
   "execution_count": 69,
   "metadata": {},
   "outputs": [
    {
     "data": {
      "image/png": "[encoded data removed]",
      "text/plain": [
       "<matplotlib.figure.Figure at 0x10e098150>"
      ]
     },
     "metadata": {},
     "output_type": "display_data"
    }
   ],
   "source": [
    "plt.figure(figsize=(15, 7))\n",
    "plt.plot(ra_center, dec_center, '.', markersize=1)\n",
    "plt.axis([0, 360, -90, 90])\n",
    "plt.show()"
   ]
  },
  {
   "cell_type": "code",
   "execution_count": 124,
   "metadata": {},
   "outputs": [
    {
     "data": {
      "image/png": "[encoded data removed]",
      "text/plain": [
       "<matplotlib.figure.Figure at 0x11a3405d0>"
      ]
     },
     "metadata": {},
     "output_type": "display_data"
    }
   ],
   "source": [
    "import matplotlib.patches as patches\n",
    "\n",
    "fig, ax = plt.subplots(figsize=(8, 8))\n",
    "for index in range(len(t)):\n",
    "    if (80<dec_center[index]<89):\n",
    "        ax.add_patch(\n",
    "            patches.Rectangle(\n",
    "                (ra_center[index], dec_center[index]),  # (x,y)\n",
    "                1.5644/np.cos(dec_center[index]/180*np.pi),  # width\n",
    "                1.5644,  # height\n",
    "                alpha=0.3,\n",
    "            )\n",
    "        )\n",
    "plt.axis([0, 20, 82, 85])\n",
    "plt.show()"
   ]
  },
  {
   "cell_type": "code",
   "execution_count": 115,
   "metadata": {},
   "outputs": [
    {
     "data": {
      "image/png": "[encoded data removed]",
      "text/plain": [
       "<matplotlib.figure.Figure at 0x1107bbe50>"
      ]
     },
     "metadata": {},
     "output_type": "display_data"
    }
   ],
   "source": [
    "import matplotlib.patches as patches\n",
    "\n",
    "fig, ax = plt.subplots(figsize=(8, 8))\n",
    "for index in range(len(t)):\n",
    "    if (7<ra_center[index]<20) and (7<dec_center[index]<20):\n",
    "        ax.add_patch(\n",
    "            patches.Rectangle(\n",
    "                (ra_center[index], dec_center[index]),  # (x,y)\n",
    "                1.5644/np.cos(dec_center[index]/180*np.pi),  # width\n",
    "                1.5644,  # height\n",
    "                alpha=0.3,\n",
    "            )\n",
    "        )\n",
    "# plt.axis([0, 360, -90, 90])\n",
    "plt.axis([10, 17, 10, 17])\n",
    "plt.show()"
   ]
  },
  {
   "cell_type": "code",
   "execution_count": null,
   "metadata": {
    "collapsed": true
   },
   "outputs": [],
   "source": []
  }
 ],
 "metadata": {
  "anaconda-cloud": {},
  "kernelspec": {
   "display_name": "Python [Root]",
   "language": "python",
   "name": "Python [Root]"
  },
  "language_info": {
   "codemirror_mode": {
    "name": "ipython",
    "version": 2
   },
   "file_extension": ".py",
   "mimetype": "text/x-python",
   "name": "python",
   "nbconvert_exporter": "python",
   "pygments_lexer": "ipython2",
   "version": "2.7.14"
  }
 },
 "nbformat": 4,
 "nbformat_minor": 2
}
